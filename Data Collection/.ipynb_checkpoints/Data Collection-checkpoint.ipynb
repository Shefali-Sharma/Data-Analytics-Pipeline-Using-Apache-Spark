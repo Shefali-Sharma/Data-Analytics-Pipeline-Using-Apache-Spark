{
 "cells": [
  {
   "cell_type": "markdown",
   "metadata": {},
   "source": [
    "# Lab3\n",
    "\n",
    "## Shefali Sharma : 50247677\n",
    "## Priya Murthy     : 50248887\n"
   ]
  },
  {
   "cell_type": "code",
   "execution_count": 13,
   "metadata": {
    "collapsed": true
   },
   "outputs": [],
   "source": [
    "import re\n",
    "from urllib import request\n",
    "import urllib.request\n",
    "from bs4 import BeautifulSoup\n",
    "from lxml.html.clean import Cleaner\n",
    "from nltk import word_tokenize\n",
    "from nltk.corpus import stopwords\n",
    "import requests"
   ]
  },
  {
   "cell_type": "markdown",
   "metadata": {},
   "source": [
    "## Parsing the Article json"
   ]
  },
  {
   "cell_type": "code",
   "execution_count": 14,
   "metadata": {
    "collapsed": true
   },
   "outputs": [],
   "source": [
    "import csv\n",
    "\n",
    "def parse_articles(articles,file_indi,iterno):\n",
    "    '''\n",
    "    This function takes in a response to the NYT api and parses\n",
    "    the articles into a list of dictionaries\n",
    "    '''\n",
    "    news = []\n",
    "    labels = [\"business\",\"sports\",\"politics\",\"technology\"]\n",
    "    #labels = [\"sports\"]\n",
    "    #download_dir = \"politics_new.csv\"\n",
    "    #csvfile = open(download_dir, \"w\") \n",
    "    #newswriter = csv.writer(csvfile)\n",
    "    #newswriter.writerow(['URL', 'Snippet','Headline','Label'])\n",
    "    #print(articles.keys())\n",
    "    if 'response' in articles:\n",
    "        for i in articles['response']['docs']:\n",
    "            dic = {}\n",
    "            dic['id'] = i['_id']\n",
    "            dic['headline'] = i['headline']['main'].encode(\"utf8\")\n",
    "            headline = i['headline']['main'].encode(\"utf8\")\n",
    "            if i['snippet'] is not None:\n",
    "                dic['snippet'] = i['snippet'].encode(\"utf8\")\n",
    "                snippet = i['snippet'].encode(\"utf8\")\n",
    "            url = i['web_url']\n",
    "            #print(url)\n",
    "            news.append(dic)\n",
    "            if url.split(\"/\")[-2].lower().strip() in labels:\n",
    "                #newswriter.writerow([url , snippet,headline,url.split(\"/\")[-2]])\n",
    "                #print(url.split(\"/\")[-2].lower().strip())\n",
    "                file_indi +=1\n",
    "                url_parser(url,url.split(\"/\")[-2].lower().strip(),file_indi,iterno)\n",
    "        #return(news) "
   ]
  },
  {
   "cell_type": "markdown",
   "metadata": {},
   "source": [
    "## url_parser function parses the url to extract contents of the article and store in file"
   ]
  },
  {
   "cell_type": "code",
   "execution_count": 15,
   "metadata": {
    "collapsed": true
   },
   "outputs": [],
   "source": [
    "def url_parser(url,name,file_indi,iterno):\n",
    "    #print('Im here')\n",
    "    from bs4 import BeautifulSoup\n",
    "    import urllib.request \n",
    "    response = urllib.request.urlopen(url) \n",
    "    html = response.read()\n",
    "    soup = BeautifulSoup(html,\"html5lib\")\n",
    "    text = soup.findAll('p')\n",
    "    fileName = name + str(file_indi) + 'iter' + str(iterno) + '.txt'\n",
    "    appendFile = open(fileName,'a')\n",
    "    appendFile.write(\" \".join([i.text for i in text]).replace(\"\\n\",\" \") + \"\\n\")\n",
    "    appendFile.close()"
   ]
  },
  {
   "cell_type": "markdown",
   "metadata": {},
   "source": [
    "## Extracting urls using the NYTimes articleAPI"
   ]
  },
  {
   "cell_type": "code",
   "execution_count": 16,
   "metadata": {
    "collapsed": true
   },
   "outputs": [],
   "source": [
    "from nytimesarticle import articleAPI\n",
    "import json\n",
    "api = articleAPI('ba304cfe701640898744692b747e2fdc')\n",
    "\n",
    "\n",
    "url = [\"http://api.nytimes.com/svc/search/v2/articlesearch.json?q=&begin_date=20170101&api-key=ba304cfe701640898744692b747e2fdc&page=\" + str(i) for i in range(100)]\n",
    "iterno = 0\n",
    "#with open('ny.json', \"w\") as f:\n",
    " #       json.dump(tofile,f)\n",
    "for u in url:\n",
    "    iterno +=1\n",
    "    r = requests.get(u)\n",
    "    new = json.loads(r.text)\n",
    "    data = r.json()\n",
    "    json_string = json.dumps(data)\n",
    "    tofile = json.loads(json_string)\n",
    "    #print(data)\n",
    "    a = parse_articles(data,0,iterno)\n",
    "        \n",
    "        "
   ]
  },
  {
   "cell_type": "code",
   "execution_count": 17,
   "metadata": {
    "collapsed": true
   },
   "outputs": [],
   "source": [
    "#a[\"response\"][\"docs\"][0].keys()"
   ]
  },
  {
   "cell_type": "code",
   "execution_count": 18,
   "metadata": {
    "collapsed": true
   },
   "outputs": [],
   "source": [
    "#[a[\"response\"][\"docs\"][i][\"new_desk\"] for i in range(len(a[\"response\"][\"docs\"]))]"
   ]
  },
  {
   "cell_type": "code",
   "execution_count": null,
   "metadata": {
    "collapsed": true
   },
   "outputs": [],
   "source": []
  }
 ],
 "metadata": {
  "kernelspec": {
   "display_name": "Python 3",
   "language": "python",
   "name": "python3"
  },
  "language_info": {
   "codemirror_mode": {
    "name": "ipython",
    "version": 3
   },
   "file_extension": ".py",
   "mimetype": "text/x-python",
   "name": "python",
   "nbconvert_exporter": "python",
   "pygments_lexer": "ipython3",
   "version": "3.6.3"
  }
 },
 "nbformat": 4,
 "nbformat_minor": 2
}
